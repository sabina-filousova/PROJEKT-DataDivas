{
 "cells": [
  {
   "cell_type": "code",
   "execution_count": 1,
   "id": "e04a0e70",
   "metadata": {},
   "outputs": [
    {
     "data": {
      "text/html": [
       "<div>\n",
       "<style scoped>\n",
       "    .dataframe tbody tr th:only-of-type {\n",
       "        vertical-align: middle;\n",
       "    }\n",
       "\n",
       "    .dataframe tbody tr th {\n",
       "        vertical-align: top;\n",
       "    }\n",
       "\n",
       "    .dataframe thead th {\n",
       "        text-align: right;\n",
       "    }\n",
       "</style>\n",
       "<table border=\"1\" class=\"dataframe\">\n",
       "  <thead>\n",
       "    <tr style=\"text-align: right;\">\n",
       "      <th></th>\n",
       "      <th>PČV</th>\n",
       "      <th>Typ subjektu</th>\n",
       "      <th>Vztah k vozidlu</th>\n",
       "      <th>IČO</th>\n",
       "      <th>Datum od</th>\n",
       "      <th>Datum do</th>\n",
       "    </tr>\n",
       "  </thead>\n",
       "  <tbody>\n",
       "    <tr>\n",
       "      <th>0</th>\n",
       "      <td>8766865</td>\n",
       "      <td>3</td>\n",
       "      <td>2</td>\n",
       "      <td>NaN</td>\n",
       "      <td>24.05.1995</td>\n",
       "      <td>05.03.1998</td>\n",
       "    </tr>\n",
       "    <tr>\n",
       "      <th>1</th>\n",
       "      <td>10240842</td>\n",
       "      <td>1</td>\n",
       "      <td>2</td>\n",
       "      <td>NaN</td>\n",
       "      <td>29.10.2001</td>\n",
       "      <td>19.12.2011</td>\n",
       "    </tr>\n",
       "    <tr>\n",
       "      <th>2</th>\n",
       "      <td>6532518</td>\n",
       "      <td>1</td>\n",
       "      <td>2</td>\n",
       "      <td>NaN</td>\n",
       "      <td>09.03.1993</td>\n",
       "      <td>14.12.1995</td>\n",
       "    </tr>\n",
       "    <tr>\n",
       "      <th>3</th>\n",
       "      <td>1629591</td>\n",
       "      <td>1</td>\n",
       "      <td>2</td>\n",
       "      <td>NaN</td>\n",
       "      <td>26.08.1993</td>\n",
       "      <td>30.03.1998</td>\n",
       "    </tr>\n",
       "    <tr>\n",
       "      <th>4</th>\n",
       "      <td>4906188</td>\n",
       "      <td>1</td>\n",
       "      <td>2</td>\n",
       "      <td>NaN</td>\n",
       "      <td>20.06.2006</td>\n",
       "      <td>15.08.2007</td>\n",
       "    </tr>\n",
       "    <tr>\n",
       "      <th>5</th>\n",
       "      <td>2892799</td>\n",
       "      <td>1</td>\n",
       "      <td>2</td>\n",
       "      <td>NaN</td>\n",
       "      <td>04.06.1992</td>\n",
       "      <td>03.09.1992</td>\n",
       "    </tr>\n",
       "    <tr>\n",
       "      <th>6</th>\n",
       "      <td>3892234</td>\n",
       "      <td>1</td>\n",
       "      <td>2</td>\n",
       "      <td>NaN</td>\n",
       "      <td>16.10.2007</td>\n",
       "      <td>NaN</td>\n",
       "    </tr>\n",
       "    <tr>\n",
       "      <th>7</th>\n",
       "      <td>994882</td>\n",
       "      <td>3</td>\n",
       "      <td>2</td>\n",
       "      <td>NaN</td>\n",
       "      <td>NaN</td>\n",
       "      <td>09.02.1983</td>\n",
       "    </tr>\n",
       "    <tr>\n",
       "      <th>8</th>\n",
       "      <td>2765022</td>\n",
       "      <td>2</td>\n",
       "      <td>2</td>\n",
       "      <td>13690221.0</td>\n",
       "      <td>24.01.1991</td>\n",
       "      <td>07.12.1994</td>\n",
       "    </tr>\n",
       "    <tr>\n",
       "      <th>9</th>\n",
       "      <td>7035232</td>\n",
       "      <td>3</td>\n",
       "      <td>2</td>\n",
       "      <td>NaN</td>\n",
       "      <td>02.12.2005</td>\n",
       "      <td>08.12.2005</td>\n",
       "    </tr>\n",
       "  </tbody>\n",
       "</table>\n",
       "</div>"
      ],
      "text/plain": [
       "        PČV  Typ subjektu  Vztah k vozidlu         IČO    Datum od    Datum do\n",
       "0   8766865             3                2         NaN  24.05.1995  05.03.1998\n",
       "1  10240842             1                2         NaN  29.10.2001  19.12.2011\n",
       "2   6532518             1                2         NaN  09.03.1993  14.12.1995\n",
       "3   1629591             1                2         NaN  26.08.1993  30.03.1998\n",
       "4   4906188             1                2         NaN  20.06.2006  15.08.2007\n",
       "5   2892799             1                2         NaN  04.06.1992  03.09.1992\n",
       "6   3892234             1                2         NaN  16.10.2007         NaN\n",
       "7    994882             3                2         NaN         NaN  09.02.1983\n",
       "8   2765022             2                2  13690221.0  24.01.1991  07.12.1994\n",
       "9   7035232             3                2         NaN  02.12.2005  08.12.2005"
      ]
     },
     "execution_count": 1,
     "metadata": {},
     "output_type": "execute_result"
    }
   ],
   "source": [
    "import pandas as pd\n",
    "\n",
    "RSV = pd.read_csv(\n",
    "    \"07_RSV_vlastnik_final.csv\",nrows=8000000,sep=\";\",\n",
    "    on_bad_lines=\"skip\", quoting=0, encoding=\"utf-8\",low_memory=False)\n",
    "\n",
    "RSV.head(10)\n",
    "\n",
    "#Typ subjektu 1 FO s trvalým v CR, 2 PO nebo podnikající FO 3 neztotožněný (zahraniční osoby, historická data)\n",
    "#Vztah k vozidlu: 1-vlastník, 2-provozovatel"
   ]
  },
  {
   "cell_type": "markdown",
   "id": "c3ef684d",
   "metadata": {},
   "source": [
    "##### všechny hodnoty v Datum do přejmenovat na NaN a převést do stávajícího 07_RSV_vlastnik_final.csv"
   ]
  },
  {
   "cell_type": "code",
   "execution_count": 29,
   "id": "962dbfb0",
   "metadata": {},
   "outputs": [
    {
     "name": "stdout",
     "output_type": "stream",
     "text": [
      "Všechny hodnoty ve sloupci 'Datum do' byly přepsány na NaN.\n"
     ]
    }
   ],
   "source": [
    "import pandas as pd\n",
    "import numpy as np\n",
    "\n",
    "df = pd.read_csv(\"07_RSV_nevalidni_datum_do.csv\", sep=\";\", encoding=\"utf-8-sig\")\n",
    "\n",
    "# Přepiš celý sloupec 'Datum do' na NaN\n",
    "df[\"Datum do\"] = np.nan\n",
    "\n",
    "# Ulož zpět\n",
    "df.to_csv(\"07_RSV_nevalidni_datum_do.csv\", sep=\";\", index=False, encoding=\"utf-8-sig\")\n",
    "\n",
    "print(\"Všechny hodnoty ve sloupci 'Datum do' byly přepsány na NaN.\")"
   ]
  },
  {
   "cell_type": "code",
   "execution_count": 30,
   "id": "ffc83fea",
   "metadata": {},
   "outputs": [
    {
     "data": {
      "text/plain": [
       "array([nan])"
      ]
     },
     "execution_count": 30,
     "metadata": {},
     "output_type": "execute_result"
    }
   ],
   "source": [
    "import pandas as pd\n",
    "\n",
    "RSV = pd.read_csv(\n",
    "    \"07_RSV_nevalidni_datum_do.csv\",sep=\";\",\n",
    "    on_bad_lines=\"skip\", quoting=0, encoding=\"utf-8\",low_memory=False)\n",
    "\n",
    "RSV[\"Datum do\"].unique()"
   ]
  },
  {
   "cell_type": "code",
   "execution_count": 31,
   "id": "a7fbb5e7",
   "metadata": {},
   "outputs": [
    {
     "name": "stdout",
     "output_type": "stream",
     "text": [
      "Opravené řádky úspěšně přidány do 07_RSV_vlastnik_final.csv\n"
     ]
    }
   ],
   "source": [
    "import pandas as pd\n",
    "\n",
    "opraveny_df = pd.read_csv(\"07_RSV_nevalidni_datum_do.csv\", sep=\";\", encoding=\"utf-8-sig\")\n",
    "\n",
    "final_df = pd.read_csv(\"07_RSV_vlastnik_final.csv\", sep=\";\", encoding=\"utf-8-sig\")\n",
    "\n",
    "# Připoj opravené řádky na konec\n",
    "spojene_df = pd.concat([final_df, opraveny_df], ignore_index=True)\n",
    "\n",
    "spojene_df.to_csv(\"07_RSV_vlastnik_final.csv\", sep=\";\", index=False, encoding=\"utf-8-sig\")\n",
    "\n",
    "print(\"Opravené řádky úspěšně přidány do 07_RSV_vlastnik_final.csv\")"
   ]
  },
  {
   "cell_type": "markdown",
   "id": "459309a5",
   "metadata": {},
   "source": [
    "#### to samé u Datum od"
   ]
  },
  {
   "cell_type": "code",
   "execution_count": 33,
   "id": "f6e2b75a",
   "metadata": {},
   "outputs": [
    {
     "name": "stdout",
     "output_type": "stream",
     "text": [
      "Všechny hodnoty ve sloupci 'Datum od' byly přepsány na NaN.\n"
     ]
    }
   ],
   "source": [
    "import pandas as pd\n",
    "import numpy as np\n",
    "\n",
    "df = pd.read_csv(\"07_RSV_nevalidni_datum_od.csv\", sep=\";\", encoding=\"utf-8-sig\")\n",
    "\n",
    "# Přepiš celý sloupec 'Datum do' na NaN\n",
    "df[\"Datum od\"] = np.nan\n",
    "\n",
    "# Ulož zpět\n",
    "df.to_csv(\"07_RSV_nevalidni_datum_od.csv\", sep=\";\", index=False, encoding=\"utf-8-sig\")\n",
    "\n",
    "print(\"Všechny hodnoty ve sloupci 'Datum od' byly přepsány na NaN.\")"
   ]
  },
  {
   "cell_type": "code",
   "execution_count": 34,
   "id": "990f74a2",
   "metadata": {},
   "outputs": [
    {
     "data": {
      "text/plain": [
       "array([nan])"
      ]
     },
     "execution_count": 34,
     "metadata": {},
     "output_type": "execute_result"
    }
   ],
   "source": [
    "import pandas as pd\n",
    "\n",
    "RSV = pd.read_csv(\n",
    "    \"07_RSV_nevalidni_datum_od.csv\",sep=\";\",\n",
    "    on_bad_lines=\"skip\", quoting=0, encoding=\"utf-8\",low_memory=False)\n",
    "\n",
    "RSV[\"Datum od\"].unique()"
   ]
  },
  {
   "cell_type": "code",
   "execution_count": 36,
   "id": "58bfce5e",
   "metadata": {},
   "outputs": [
    {
     "name": "stdout",
     "output_type": "stream",
     "text": [
      "Řádky úspěšně připojeny k 07_RSV_vlastnik_final.csv\n"
     ]
    }
   ],
   "source": [
    "import pandas as pd\n",
    "\n",
    "# Načti opravený soubor s Datum od = NaN\n",
    "opraveny_df = pd.read_csv(\"07_RSV_nevalidni_datum_od.csv\", sep=\";\", encoding=\"utf-8-sig\")\n",
    "\n",
    "# Připoj na konec souboru bez načítání původního\n",
    "opraveny_df.to_csv(\"07_RSV_vlastnik_final.csv\", sep=\";\", index=False, encoding=\"utf-8-sig\", mode=\"a\", header=False)\n",
    "\n",
    "print(\"Řádky úspěšně připojeny k 07_RSV_vlastnik_final.csv\")"
   ]
  }
 ],
 "metadata": {
  "kernelspec": {
   "display_name": "Python 3",
   "language": "python",
   "name": "python3"
  },
  "language_info": {
   "codemirror_mode": {
    "name": "ipython",
    "version": 3
   },
   "file_extension": ".py",
   "mimetype": "text/x-python",
   "name": "python",
   "nbconvert_exporter": "python",
   "pygments_lexer": "ipython3",
   "version": "3.13.2"
  }
 },
 "nbformat": 4,
 "nbformat_minor": 5
}
