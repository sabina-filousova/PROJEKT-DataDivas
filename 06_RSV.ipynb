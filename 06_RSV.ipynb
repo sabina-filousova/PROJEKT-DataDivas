{
 "cells": [
  {
   "cell_type": "markdown",
   "id": "bea7c396",
   "metadata": {},
   "source": [
    "#### Toto, je původní soubor z registru vozidel (velká velikost 18 GB), ze souboru jsme identifikovali chybně vyplněné řádky (do sloupců Plně elektrické to natáhlo zdvihový objem), které jsme smazali a vygenerovali nový výstupní soubor csv. \"RSV_bez_chybnych_radku.csv bez těchto chybných řádků + byly definovány pouze potřebné sloupce"
   ]
  },
  {
   "cell_type": "code",
   "execution_count": null,
   "id": "48975c1f",
   "metadata": {},
   "outputs": [
    {
     "name": "stdout",
     "output_type": "stream",
     "text": [
      "68676\n"
     ]
    }
   ],
   "source": [
    "import pandas as pd\n",
    "import csv\n",
    "import numpy as np\n",
    "\n",
    "\"\"\"Precte po chuncich CSV, vyfiltruje sloupce, vyfiltruje radky podle hodnot ve sloupci 'Plně elektrické vozidlo' \n",
    "(pokud tam jsou jine nez \"ANO\", \"NE\" a NaN, tak je zahodi (overit, ze ponechava NaN! Pokud ho vlastne chceme).\"\"\"\n",
    "\n",
    "chunk_size = 100_000\n",
    "output_file_path = \"06_RSV_bez_chybnych_radku.csv\"\n",
    "bad_values_count = 0\n",
    "is_first_chunk = True\n",
    "\n",
    "for chunked_csv_reader in pd.read_csv(\n",
    "# chunked_csv_reader = pd.read_csv(\n",
    "    \"RSV_vypis_vozidel_20250301.csv\",\n",
    "    usecols=[\n",
    "        \"Datum 1  registrace\", \"Datum 1  registrace v ČR\", \"Druh vozidla\", \"Kategorie vozidla\",\n",
    "        \"Tovární značka\", \"Palivo\", \"Plně elektrické vozidlo\",\n",
    "        \"Hybridní vozidlo\", \"PČV\", \"Rok výroby\"\n",
    "    ],\n",
    "    sep=\",\",\n",
    "    on_bad_lines=\"warn\",  # budeme alespon znat, kolik radku to preskoci pri nacitani\n",
    "    quoting=csv.QUOTE_MINIMAL,  # vyzkouset jine quotovani? Viz https://pandas.pydata.org/docs/reference/api/pandas.read_csv.html a https://docs.python.org/3/library/csv.html#csv.QUOTE_ALL\n",
    "    encoding=\"utf-8\",\n",
    "    low_memory=False,\n",
    "    chunksize=chunk_size):  # <- tady říkáme \"čti po 100 000 řádcích\"\n",
    "\n",
    "    \n",
    "    \n",
    "    # for chunk in chunked_csv_reader:\n",
    "        good_values_mask = chunked_csv_reader['Plně elektrické vozidlo'].isin(['NE', 'ANO', np.nan])  # overit, ze np.nan je spravna hodnota\n",
    "        bad_values_mask = ~good_values_mask\n",
    "        bad_values_count += bad_values_mask.sum()\n",
    "        filtered_chunk = chunked_csv_reader[good_values_mask]\n",
    "        if filtered_chunk.empty:\n",
    "            continue  # nikam nezapisujeme\n",
    "        \n",
    "        filtered_chunk.to_csv(\n",
    "            output_file_path,\n",
    "            mode='w' if is_first_chunk else 'a',  # prvni chunk zapiseme (\"write\"), dalsi uz jen \"appendujeme\"\n",
    "            header=is_first_chunk,\n",
    "            index=False\n",
    "        )\n",
    "        is_first_chunk = False\n",
    "    \n",
    "print(bad_values_count)"
   ]
  },
  {
   "cell_type": "code",
   "execution_count": 11,
   "id": "ccd8d0bd",
   "metadata": {},
   "outputs": [],
   "source": [
    "!code RSV_sloupce.txt  #vyjede mi ve vedlejší záložce všecky sloupce"
   ]
  }
 ],
 "metadata": {
  "kernelspec": {
   "display_name": "Python 3",
   "language": "python",
   "name": "python3"
  },
  "language_info": {
   "codemirror_mode": {
    "name": "ipython",
    "version": 3
   },
   "file_extension": ".py",
   "mimetype": "text/x-python",
   "name": "python",
   "nbconvert_exporter": "python",
   "pygments_lexer": "ipython3",
   "version": "3.13.2"
  }
 },
 "nbformat": 4,
 "nbformat_minor": 5
}
