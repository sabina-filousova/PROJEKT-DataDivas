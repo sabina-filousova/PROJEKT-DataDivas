{
 "cells": [
  {
   "cell_type": "markdown",
   "id": "99f03191",
   "metadata": {},
   "source": [
    "#### z RSV_bez_chybnych_radku jsme identifikovali pouze řádky, kde je Kategorie vozidla \"M1\""
   ]
  },
  {
   "cell_type": "code",
   "execution_count": 1,
   "id": "b8dd6cbc",
   "metadata": {},
   "outputs": [],
   "source": [
    "import pandas as pd\n",
    "\n",
    "chunksize = 100_000  # velikost jednoho kusu\n",
    "\n",
    "# připravíme prázdný DataFrame\n",
    "final = pd.DataFrame()\n",
    "\n",
    "typy_osobaku = [\n",
    "    \"M1\"\n",
    "]\n",
    "\n",
    "osobaky = []\n",
    "# postupně čteme velký soubor po kouskách\n",
    "for chunk in pd.read_csv(\n",
    "    \"06_RSV_bez_chybnych_radku.csv\",\n",
    "    sep=\",\",\n",
    "    on_bad_lines=\"skip\",\n",
    "    quoting=0,\n",
    "    encoding=\"utf-8\",\n",
    "    low_memory=False,\n",
    "    chunksize=chunksize):  # <- tady říkáme \"čti po 100 000 řádcích\"\n",
    "        \n",
    "    # filtrujeme řádky\n",
    "    osobaky = chunk[chunk[\"Kategorie vozidla\"].isin(typy_osobaku)]\n",
    "    \n",
    "    # připojíme vybraný kus do finálního DataFrame\n",
    "    final = pd.concat([final, osobaky], ignore_index=True)\n",
    "\n",
    "# na konci uložíme celé zpracované CSV\n",
    "final.to_csv(\"06_RSV_bez_chybnych_radku_M1.csv\", index=False, encoding=\"utf-8\")\n",
    "\n",
    "\n"
   ]
  }
 ],
 "metadata": {
  "kernelspec": {
   "display_name": "Python 3",
   "language": "python",
   "name": "python3"
  },
  "language_info": {
   "codemirror_mode": {
    "name": "ipython",
    "version": 3
   },
   "file_extension": ".py",
   "mimetype": "text/x-python",
   "name": "python",
   "nbconvert_exporter": "python",
   "pygments_lexer": "ipython3",
   "version": "3.13.2"
  }
 },
 "nbformat": 4,
 "nbformat_minor": 5
}
