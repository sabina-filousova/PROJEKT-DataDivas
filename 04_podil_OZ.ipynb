{
 "cells": [
  {
   "cell_type": "code",
   "execution_count": 2,
   "id": "87dff614",
   "metadata": {},
   "outputs": [
    {
     "data": {
      "text/html": [
       "<div>\n",
       "<style scoped>\n",
       "    .dataframe tbody tr th:only-of-type {\n",
       "        vertical-align: middle;\n",
       "    }\n",
       "\n",
       "    .dataframe tbody tr th {\n",
       "        vertical-align: top;\n",
       "    }\n",
       "\n",
       "    .dataframe thead th {\n",
       "        text-align: right;\n",
       "    }\n",
       "</style>\n",
       "<table border=\"1\" class=\"dataframe\">\n",
       "  <thead>\n",
       "    <tr style=\"text-align: right;\">\n",
       "      <th></th>\n",
       "      <th>Země</th>\n",
       "      <th>Podíl obnovitelných</th>\n",
       "      <th>Rok</th>\n",
       "      <th>Jednotka</th>\n",
       "    </tr>\n",
       "  </thead>\n",
       "  <tbody>\n",
       "    <tr>\n",
       "      <th>0</th>\n",
       "      <td>Švédsko</td>\n",
       "      <td>66.00</td>\n",
       "      <td>2022</td>\n",
       "      <td>%</td>\n",
       "    </tr>\n",
       "    <tr>\n",
       "      <th>1</th>\n",
       "      <td>Švédsko</td>\n",
       "      <td>62.69</td>\n",
       "      <td>2021</td>\n",
       "      <td>%</td>\n",
       "    </tr>\n",
       "    <tr>\n",
       "      <th>2</th>\n",
       "      <td>Švédsko</td>\n",
       "      <td>60.12</td>\n",
       "      <td>2020</td>\n",
       "      <td>%</td>\n",
       "    </tr>\n",
       "    <tr>\n",
       "      <th>3</th>\n",
       "      <td>Finsko</td>\n",
       "      <td>47.89</td>\n",
       "      <td>2022</td>\n",
       "      <td>%</td>\n",
       "    </tr>\n",
       "    <tr>\n",
       "      <th>4</th>\n",
       "      <td>Švédsko</td>\n",
       "      <td>46.10</td>\n",
       "      <td>2010</td>\n",
       "      <td>%</td>\n",
       "    </tr>\n",
       "    <tr>\n",
       "      <th>...</th>\n",
       "      <td>...</td>\n",
       "      <td>...</td>\n",
       "      <td>...</td>\n",
       "      <td>...</td>\n",
       "    </tr>\n",
       "    <tr>\n",
       "      <th>99</th>\n",
       "      <td>Kypr</td>\n",
       "      <td>6.16</td>\n",
       "      <td>2010</td>\n",
       "      <td>%</td>\n",
       "    </tr>\n",
       "    <tr>\n",
       "      <th>100</th>\n",
       "      <td>Belgie</td>\n",
       "      <td>6.00</td>\n",
       "      <td>2010</td>\n",
       "      <td>%</td>\n",
       "    </tr>\n",
       "    <tr>\n",
       "      <th>101</th>\n",
       "      <td>Irsko</td>\n",
       "      <td>5.76</td>\n",
       "      <td>2010</td>\n",
       "      <td>%</td>\n",
       "    </tr>\n",
       "    <tr>\n",
       "      <th>102</th>\n",
       "      <td>Nizozemsko</td>\n",
       "      <td>3.92</td>\n",
       "      <td>2010</td>\n",
       "      <td>%</td>\n",
       "    </tr>\n",
       "    <tr>\n",
       "      <th>103</th>\n",
       "      <td>Malta</td>\n",
       "      <td>0.98</td>\n",
       "      <td>2010</td>\n",
       "      <td>%</td>\n",
       "    </tr>\n",
       "  </tbody>\n",
       "</table>\n",
       "<p>104 rows × 4 columns</p>\n",
       "</div>"
      ],
      "text/plain": [
       "           Země  Podíl obnovitelných   Rok Jednotka\n",
       "0       Švédsko                66.00  2022        %\n",
       "1       Švédsko                62.69  2021        %\n",
       "2       Švédsko                60.12  2020        %\n",
       "3        Finsko                47.89  2022        %\n",
       "4       Švédsko                46.10  2010        %\n",
       "..          ...                  ...   ...      ...\n",
       "99         Kypr                 6.16  2010        %\n",
       "100      Belgie                 6.00  2010        %\n",
       "101       Irsko                 5.76  2010        %\n",
       "102  Nizozemsko                 3.92  2010        %\n",
       "103       Malta                 0.98  2010        %\n",
       "\n",
       "[104 rows x 4 columns]"
      ]
     },
     "execution_count": 2,
     "metadata": {},
     "output_type": "execute_result"
    }
   ],
   "source": [
    "import pandas as pd\n",
    "\n",
    "podil_EU = pd.read_csv(\"podil_OZ_naspotrebe_vEU.csv\", sep=\",\", encoding = \"utf-8\")\n",
    "\n",
    "podil_EU"
   ]
  },
  {
   "cell_type": "code",
   "execution_count": 3,
   "id": "e06e76da",
   "metadata": {},
   "outputs": [
    {
     "data": {
      "text/plain": [
       "(104, 4)"
      ]
     },
     "execution_count": 3,
     "metadata": {},
     "output_type": "execute_result"
    }
   ],
   "source": [
    "podil_EU.shape"
   ]
  },
  {
   "cell_type": "code",
   "execution_count": 4,
   "id": "b7d14b29",
   "metadata": {},
   "outputs": [
    {
     "name": "stdout",
     "output_type": "stream",
     "text": [
      "<class 'pandas.core.frame.DataFrame'>\n",
      "RangeIndex: 104 entries, 0 to 103\n",
      "Data columns (total 4 columns):\n",
      " #   Column               Non-Null Count  Dtype  \n",
      "---  ------               --------------  -----  \n",
      " 0   Země                 104 non-null    object \n",
      " 1   Podíl obnovitelných  104 non-null    float64\n",
      " 2   Rok                  104 non-null    int64  \n",
      " 3   Jednotka             104 non-null    object \n",
      "dtypes: float64(1), int64(1), object(2)\n",
      "memory usage: 3.4+ KB\n"
     ]
    }
   ],
   "source": [
    "podil_EU.info()"
   ]
  },
  {
   "cell_type": "code",
   "execution_count": 5,
   "id": "4b1a0778",
   "metadata": {},
   "outputs": [],
   "source": [
    "podil_EU.rename(columns = {\"Podíl obnovitelných\":\"Podíl obnovitelných zdrojů (%)\"}, inplace = True)"
   ]
  },
  {
   "cell_type": "code",
   "execution_count": 6,
   "id": "b5027603",
   "metadata": {},
   "outputs": [],
   "source": [
    "podil_EU.drop(\"Jednotka\", axis=1, inplace=True)"
   ]
  },
  {
   "cell_type": "code",
   "execution_count": 12,
   "id": "746e7213",
   "metadata": {},
   "outputs": [
    {
     "data": {
      "text/plain": [
       "Země\n",
       "Švédsko        4\n",
       "Finsko         4\n",
       "Lotyšsko       4\n",
       "Dánsko         4\n",
       "Estonsko       4\n",
       "Rakousko       4\n",
       "Portugalsko    4\n",
       "Chorvatsko     4\n",
       "Litva          4\n",
       "Slovinsko      4\n",
       "Rumunsko       4\n",
       "Bulharsko      4\n",
       "Řecko          4\n",
       "Španělsko      4\n",
       "Německo        4\n",
       "Itálie         4\n",
       "Francie        4\n",
       "Kypr           4\n",
       "Česko          4\n",
       "Slovensko      4\n",
       "Polsko         4\n",
       "Irsko          4\n",
       "Maďarsko       4\n",
       "Nizozemsko     4\n",
       "Belgie         4\n",
       "Malta          4\n",
       "Name: count, dtype: int64"
      ]
     },
     "execution_count": 12,
     "metadata": {},
     "output_type": "execute_result"
    }
   ],
   "source": [
    "podil_EU[\"Země\"].value_counts()"
   ]
  },
  {
   "cell_type": "code",
   "execution_count": 13,
   "id": "26af09c1",
   "metadata": {},
   "outputs": [
    {
     "data": {
      "text/html": [
       "<div>\n",
       "<style scoped>\n",
       "    .dataframe tbody tr th:only-of-type {\n",
       "        vertical-align: middle;\n",
       "    }\n",
       "\n",
       "    .dataframe tbody tr th {\n",
       "        vertical-align: top;\n",
       "    }\n",
       "\n",
       "    .dataframe thead th {\n",
       "        text-align: right;\n",
       "    }\n",
       "</style>\n",
       "<table border=\"1\" class=\"dataframe\">\n",
       "  <thead>\n",
       "    <tr style=\"text-align: right;\">\n",
       "      <th></th>\n",
       "      <th>Země</th>\n",
       "      <th>Podíl obnovitelných zdrojů (%)</th>\n",
       "      <th>Rok</th>\n",
       "    </tr>\n",
       "  </thead>\n",
       "  <tbody>\n",
       "    <tr>\n",
       "      <th>0</th>\n",
       "      <td>Švédsko</td>\n",
       "      <td>66.00</td>\n",
       "      <td>2022</td>\n",
       "    </tr>\n",
       "    <tr>\n",
       "      <th>1</th>\n",
       "      <td>Švédsko</td>\n",
       "      <td>62.69</td>\n",
       "      <td>2021</td>\n",
       "    </tr>\n",
       "    <tr>\n",
       "      <th>2</th>\n",
       "      <td>Švédsko</td>\n",
       "      <td>60.12</td>\n",
       "      <td>2020</td>\n",
       "    </tr>\n",
       "    <tr>\n",
       "      <th>3</th>\n",
       "      <td>Finsko</td>\n",
       "      <td>47.89</td>\n",
       "      <td>2022</td>\n",
       "    </tr>\n",
       "    <tr>\n",
       "      <th>4</th>\n",
       "      <td>Švédsko</td>\n",
       "      <td>46.10</td>\n",
       "      <td>2010</td>\n",
       "    </tr>\n",
       "    <tr>\n",
       "      <th>...</th>\n",
       "      <td>...</td>\n",
       "      <td>...</td>\n",
       "      <td>...</td>\n",
       "    </tr>\n",
       "    <tr>\n",
       "      <th>99</th>\n",
       "      <td>Kypr</td>\n",
       "      <td>6.16</td>\n",
       "      <td>2010</td>\n",
       "    </tr>\n",
       "    <tr>\n",
       "      <th>100</th>\n",
       "      <td>Belgie</td>\n",
       "      <td>6.00</td>\n",
       "      <td>2010</td>\n",
       "    </tr>\n",
       "    <tr>\n",
       "      <th>101</th>\n",
       "      <td>Irsko</td>\n",
       "      <td>5.76</td>\n",
       "      <td>2010</td>\n",
       "    </tr>\n",
       "    <tr>\n",
       "      <th>102</th>\n",
       "      <td>Nizozemsko</td>\n",
       "      <td>3.92</td>\n",
       "      <td>2010</td>\n",
       "    </tr>\n",
       "    <tr>\n",
       "      <th>103</th>\n",
       "      <td>Malta</td>\n",
       "      <td>0.98</td>\n",
       "      <td>2010</td>\n",
       "    </tr>\n",
       "  </tbody>\n",
       "</table>\n",
       "<p>104 rows × 3 columns</p>\n",
       "</div>"
      ],
      "text/plain": [
       "           Země  Podíl obnovitelných zdrojů (%)   Rok\n",
       "0       Švédsko                           66.00  2022\n",
       "1       Švédsko                           62.69  2021\n",
       "2       Švédsko                           60.12  2020\n",
       "3        Finsko                           47.89  2022\n",
       "4       Švédsko                           46.10  2010\n",
       "..          ...                             ...   ...\n",
       "99         Kypr                            6.16  2010\n",
       "100      Belgie                            6.00  2010\n",
       "101       Irsko                            5.76  2010\n",
       "102  Nizozemsko                            3.92  2010\n",
       "103       Malta                            0.98  2010\n",
       "\n",
       "[104 rows x 3 columns]"
      ]
     },
     "execution_count": 13,
     "metadata": {},
     "output_type": "execute_result"
    }
   ],
   "source": [
    "podil_EU"
   ]
  },
  {
   "cell_type": "code",
   "execution_count": 14,
   "id": "cbc41e9b",
   "metadata": {},
   "outputs": [],
   "source": [
    "podil_EU.to_csv(\"04_vystup_podil_OZ.csv\", sep=\";\", index=False, encoding=\"utf-8\")"
   ]
  }
 ],
 "metadata": {
  "kernelspec": {
   "display_name": "Python 3",
   "language": "python",
   "name": "python3"
  },
  "language_info": {
   "codemirror_mode": {
    "name": "ipython",
    "version": 3
   },
   "file_extension": ".py",
   "mimetype": "text/x-python",
   "name": "python",
   "nbconvert_exporter": "python",
   "pygments_lexer": "ipython3",
   "version": "3.13.2"
  }
 },
 "nbformat": 4,
 "nbformat_minor": 5
}
