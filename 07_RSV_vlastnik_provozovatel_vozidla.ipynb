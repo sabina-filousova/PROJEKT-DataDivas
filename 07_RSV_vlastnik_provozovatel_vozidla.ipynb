{
 "cells": [
  {
   "cell_type": "code",
   "execution_count": null,
   "id": "773f1b11",
   "metadata": {},
   "outputs": [
    {
     "data": {
      "text/html": [
       "<div>\n",
       "<style scoped>\n",
       "    .dataframe tbody tr th:only-of-type {\n",
       "        vertical-align: middle;\n",
       "    }\n",
       "\n",
       "    .dataframe tbody tr th {\n",
       "        vertical-align: top;\n",
       "    }\n",
       "\n",
       "    .dataframe thead th {\n",
       "        text-align: right;\n",
       "    }\n",
       "</style>\n",
       "<table border=\"1\" class=\"dataframe\">\n",
       "  <thead>\n",
       "    <tr style=\"text-align: right;\">\n",
       "      <th></th>\n",
       "      <th>PČV</th>\n",
       "      <th>Typ subjektu</th>\n",
       "      <th>Vztah k vozidlu</th>\n",
       "      <th>Aktuální</th>\n",
       "      <th>IČO</th>\n",
       "      <th>Název</th>\n",
       "      <th>Adresa</th>\n",
       "      <th>Datum od</th>\n",
       "      <th>Datum do</th>\n",
       "    </tr>\n",
       "  </thead>\n",
       "  <tbody>\n",
       "    <tr>\n",
       "      <th>0</th>\n",
       "      <td>8766865</td>\n",
       "      <td>3</td>\n",
       "      <td>2</td>\n",
       "      <td>False</td>\n",
       "      <td>NaN</td>\n",
       "      <td>ŠTETÍ</td>\n",
       "      <td>NaN</td>\n",
       "      <td>24.05.1995</td>\n",
       "      <td>05.03.1998</td>\n",
       "    </tr>\n",
       "    <tr>\n",
       "      <th>1</th>\n",
       "      <td>10240842</td>\n",
       "      <td>1</td>\n",
       "      <td>2</td>\n",
       "      <td>False</td>\n",
       "      <td>NaN</td>\n",
       "      <td>NaN</td>\n",
       "      <td>NaN</td>\n",
       "      <td>29.10.2001</td>\n",
       "      <td>19.12.2011</td>\n",
       "    </tr>\n",
       "  </tbody>\n",
       "</table>\n",
       "</div>"
      ],
      "text/plain": [
       "        PČV  Typ subjektu  Vztah k vozidlu  Aktuální  IČO  Název Adresa  \\\n",
       "0   8766865             3                2     False  NaN  ŠTETÍ    NaN   \n",
       "1  10240842             1                2     False  NaN    NaN    NaN   \n",
       "\n",
       "     Datum od    Datum do  \n",
       "0  24.05.1995  05.03.1998  \n",
       "1  29.10.2001  19.12.2011  "
      ]
     },
     "execution_count": 1,
     "metadata": {},
     "output_type": "execute_result"
    }
   ],
   "source": [
    "# import pandas as pd\n",
    "\n",
    "# RSV = pd.read_csv(\n",
    "#     \"07_RSV_vlastnik_provozovatel_vozidla.csv\",nrows=4000000,sep=\",\",\n",
    "#     on_bad_lines=\"skip\", quoting=0, encoding=\"utf-8\",low_memory=False)\n",
    "\n",
    "# RSV.head(2)\n",
    "\n",
    "#Typ subjektu 1 FO s trvalým v CR, 2 PO nebo podnikající FO 3 neztotožněný (zahraniční osoby, historická data)\n",
    "#Vztah k vozidlu: 1-vlastník, 2-provozovatel"
   ]
  },
  {
   "cell_type": "markdown",
   "id": "31927da8",
   "metadata": {},
   "source": [
    "#### Původní soubor 5,34 GB, zmenšení tím, že vybereme pouze konkrétní sloupce "
   ]
  },
  {
   "cell_type": "code",
   "execution_count": null,
   "id": "d2e3f21d",
   "metadata": {},
   "outputs": [],
   "source": [
    "import pandas as pd\n",
    "import csv\n",
    "import numpy as np\n",
    "\n",
    "chunk_size = 100_000\n",
    "output_file_path = \"07_RSV_vlastnik_provozovatel_ico.csv\"\n",
    "is_first_chunk = True\n",
    "\n",
    "for chunked_csv_reader in pd.read_csv(\n",
    "    \"07_RSV_vlastnik_provozovatel_vozidla.csv\",\n",
    "    usecols=[\n",
    "        \"PČV\", \"Typ subjektu\", \"Vztah k vozidlu\", \"IČO\", \"Datum od\", \"Datum do\"\n",
    "    ],\n",
    "    sep=',',\n",
    "    on_bad_lines=\"warn\",\n",
    "    quoting=csv.QUOTE_MINIMAL,\n",
    "    encoding=\"utf-8\",\n",
    "    low_memory=False,\n",
    "    chunksize=chunk_size\n",
    "):\n",
    "    chunked_csv_reader.to_csv(\n",
    "        output_file_path,\n",
    "        mode='w' if is_first_chunk else 'a',\n",
    "        header=is_first_chunk,\n",
    "        index=False\n",
    "    )\n",
    "    is_first_chunk = False\n",
    "    "
   ]
  }
 ],
 "metadata": {
  "kernelspec": {
   "display_name": "Python 3",
   "language": "python",
   "name": "python3"
  },
  "language_info": {
   "codemirror_mode": {
    "name": "ipython",
    "version": 3
   },
   "file_extension": ".py",
   "mimetype": "text/x-python",
   "name": "python",
   "nbconvert_exporter": "python",
   "pygments_lexer": "ipython3",
   "version": "3.13.2"
  }
 },
 "nbformat": 4,
 "nbformat_minor": 5
}
